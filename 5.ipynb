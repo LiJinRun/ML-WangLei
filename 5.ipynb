{
 "cells": [
  {
   "cell_type": "code",
   "execution_count": 1,
   "metadata": {},
   "outputs": [
    {
     "data": {
      "text/plain": [
       "75"
      ]
     },
     "execution_count": 1,
     "metadata": {},
     "output_type": "execute_result"
    }
   ],
   "source": [
    "10+10 + 5 + 15 + 15 + 20 \n",
    "3、4、8、"
   ]
  },
  {
   "cell_type": "markdown",
   "metadata": {
    "colab_type": "text",
    "id": "Bmg30AdU-Sj8"
   },
   "source": [
    "**5.1** 设样本空间$X$= $R^n$。标签采用0-1标签\n",
    "形式。设$h_w$是一个Logistic 回归模型。请分别描述被$h_w$的最大概率分类函数归入类0与类1的区域。"
   ]
  },
  {
   "cell_type": "markdown",
   "metadata": {
    "colab_type": "text",
    "id": "KLzcQ1d40Dpp"
   },
   "source": [
    "$h_w\\ge0.5$，归入类1  \n",
    "$h_w< 0.5$，归入类0"
   ]
  },
  {
   "cell_type": "markdown",
   "metadata": {
    "colab_type": "text",
    "id": "CW7Tf12x-SkD"
   },
   "source": [
    "**5.2** 二元分类问题的标签形式是灵活多样的。式(5. 10)中的交叉熵采用了0-1标签形式。{-1,+1}是另一种常用的标签形式。请描述基于{-1,+1}标签形式的交叉熵表达式。"
   ]
  },
  {
   "cell_type": "markdown",
   "metadata": {
    "colab_type": "text",
    "id": "fppL7tqk-0Sx"
   },
   "source": [
    "$$\n",
    "\\frac{1}{m}\\sum_{i=1}^{m}[\\frac{y^{(i)}+1}{2}log(1+e^{-<w,x^{(i)}>})+\\frac{-y^{(i)}+1}{2}log(1+e^{<w,x^{(i)}>})]\n",
    "$$"
   ]
  },
  {
   "cell_type": "markdown",
   "metadata": {
    "colab_type": "text",
    "id": "anYQOgsP-SkG"
   },
   "source": [
    "**5.3** Logistic回归算法是一个经验损失最小化算法。因此，可以对其进行正则化，请描述Logistic回归算法的$L_1$正则化与$L_2$正则化算法的目标函数，并用梯度下降算性实现Logistic回归算法的$L_1$正则化与L2正则化。"
   ]
  },
  {
   "cell_type": "markdown",
   "metadata": {
    "colab_type": "text",
    "id": "pelBgKq_N_bN"
   },
   "source": [
    "$L_1$正则化Logistic回归:   \n",
    "$$\n",
    "\\min_{w \\in \\mathbb R^n}\\frac{1}{m}\\sum_{i=1}^{m}[y^{(i)}log(1+e^{-<w,x^{(i)}>})+(1-y^{(i)})log(1+e^{<w,x^{(i)}>})]+\\lambda|w| \\\\\n",
    "\\nabla F(w)=\\frac{1}{m}X^T(h_w(X-y))+\\lambda sign(w)\n",
    "$$\n",
    "$L_2$正则化Logistic回归:   \n",
    "$$\n",
    "\\min_{w \\in \\mathbb R^n}\\frac{1}{m}\\sum_{i=1}^{m}[y^{(i)}log(1+e^{-<w,x^{(i)}>})+(1-y^{(i)})log(1+e^{<w,x^{(i)}>})]+\\lambda\\|w\\|^2 \\\\\n",
    "\\nabla F(w)=\\frac{1}{m}X^T(h_w(X-y))+2\\lambda w\n",
    "$$\n",
    "梯度下降算法：  \n",
    "$ w = 0 $  \n",
    "for $t = 1,2,…,N$:  \n",
    "&emsp;&emsp; $w\\leftarrow w - \\eta \\nabla F(w)$  \n",
    "return $w$    "
   ]
  },
  {
   "cell_type": "markdown",
   "metadata": {
    "colab_type": "text",
    "id": "7EYu26ST-SkK"
   },
   "source": [
    "**5.4** 在第3章中介绍的逐步回归算法是线性回归的特征选择算法。它的基本思想是，逐步引入能够显著降低均方误差的特征。同一思想也可以用于Logistic回归算法。请实现关于Logisic回归问题的逐步Logistite回归算法。"
   ]
  },
  {
   "cell_type": "markdown",
   "metadata": {
    "colab_type": "text",
    "id": "hhq-6sCHR8wg"
   },
   "source": [
    "StepwiseLogisticRegression($X,y$):  \n",
    "$A={1}, C=\\{2,3,…,n\\}$  \n",
    "for $i = 2,3,...,n$:  \n",
    "&emsp; &emsp; $CrossEntropy_A=\\min_{w \\in \\mathbb R ^{|A|}}\\frac{1}{m}\\|Y\\log(1+e^{X_Aw})\\|^2$  \n",
    "&emsp; &emsp; for $j \\in C$:  \n",
    "&emsp; &emsp; &emsp; &emsp;$CrossEntropy_{A \\cup j}=\\min_{w \\in \\mathbb R ^{|A|+1}}\\frac{1}{m}\\|Y\\log(1+e^{X_{A\\cup j}w})\\|^2$  \n",
    "&emsp; &emsp; $j^*=argmin_{j\\in C}CrossEntropy_{A \\cup j}$  \n",
    "&emsp; &emsp; if $CrossEntropy_A/CrossEntropy_{A \\cup j^*}$ pass F test:  \n",
    "&emsp; &emsp; &emsp; &emsp; $A \\leftarrow A \\cup j^*$  \n",
    "&emsp; &emsp; &emsp; &emsp; $C \\leftarrow C \\setminus j^*$ \n",
    "&emsp; &emsp;  \n",
    "&emsp; &emsp; break  \n",
    "return A"
   ]
  },
  {
   "cell_type": "markdown",
   "metadata": {
    "colab_type": "text",
    "id": "akc0o5Jr-SkO"
   },
   "source": [
    "**5.5** 设有8条标签属于{0,1}的数据。它们的标签组成的向量为(1,1,1,1,0,0,0,0),设模型h对这8条数据的标签预测为(1,0,1,1,0,1,1,0)。请计算模型h的准确率、精确率与召回率。"
   ]
  },
  {
   "cell_type": "markdown",
   "metadata": {
    "colab_type": "text",
    "id": "KWouuGPHR7w5"
   },
   "source": [
    "$$Accuracy=\\frac{5}{8}=0.625$$ \n",
    "$$TP=3$$\n",
    "$$FP=2$$\n",
    "$$FN=1$$\n",
    "$$Precision=\\frac{TP}{TP+FP}=0.6$$  \n",
    "$$Recall=\\frac{TP}{TP+FN}=0.75$$"
   ]
  },
  {
   "cell_type": "markdown",
   "metadata": {
    "colab_type": "text",
    "id": "LICxLFy4-SkT"
   },
   "source": [
    "**5.6** 乳腺癌预测问题。  \n",
    "&emsp;&emsp;乳腺癌预测问题的任务是:根据患者的病理特征，预测患者的乳腺肿瘤是良性还是恶性。数据集来自Sklearn工具库中的乳腺癌数据集。该数据集包含569例乳腺肿瘤病例，每一条病例含有患者的30个病例特征以及该患者的肿瘤是良性还是恶性的结果。  \n",
    "&emsp;&emsp;图5.25中的程序导入乳腺癌数据集，并生成特征矩阵与标签矩阵。请基于图5.25.用Logistic回归算法完成乳腺癌预测问题。完成预测后，还需要计算模型的准确率、精确率与召回率。最后，绘制出ROC曲线，并计算AUC测度。 \n",
    "\n",
    "![图5.25](./5.25.png)\n",
    "\n",
    "**导入乳腺癌数据集并生成特征矩阵与标签矩阵的程序**\n"
   ]
  },
  {
   "cell_type": "code",
   "execution_count": 9,
   "metadata": {},
   "outputs": [
    {
     "name": "stdout",
     "output_type": "stream",
     "text": [
      "^C\n"
     ]
    }
   ],
   "source": [
    "!pip install matplotlib"
   ]
  },
  {
   "cell_type": "code",
   "execution_count": 10,
   "metadata": {
    "colab": {},
    "colab_type": "code",
    "id": "0r_Tyu_DduBH"
   },
   "outputs": [],
   "source": [
    "from sklearn.datasets import load_breast_cancer\n",
    "from sklearn.model_selection import train_test_split\n",
    "import numpy as np\n",
    "#import matplotlib.pyplot as plt"
   ]
  },
  {
   "cell_type": "code",
   "execution_count": 11,
   "metadata": {
    "colab": {},
    "colab_type": "code",
    "id": "bf_ajKm7U85Y"
   },
   "outputs": [],
   "source": [
    "def process_features(X):\n",
    "    m, n = X.shape\n",
    "    X = np.c_[np.ones((m, 1)), X]\n",
    "    return X"
   ]
  },
  {
   "cell_type": "code",
   "execution_count": 12,
   "metadata": {
    "colab": {},
    "colab_type": "code",
    "id": "LG8EzbFsfqYE"
   },
   "outputs": [],
   "source": [
    "X, y = load_breast_cancer(return_X_y=True)\n",
    "y = y.reshape(-1, 1)\n",
    "X_train, X_test, y_train, y_test = train_test_split(X, y, test_size=0.2, random_state=0)\n",
    "X_train = process_features(X_train)\n",
    "X_test = process_features(X_test)"
   ]
  },
  {
   "cell_type": "code",
   "execution_count": 15,
   "metadata": {
    "colab": {},
    "colab_type": "code",
    "id": "uVsNN4b8fq7V"
   },
   "outputs": [],
   "source": [
    "class LogisticRegression:\n",
    "    def fit(self, X, y, lr=0.1, epoch=10000):\n",
    "        m, n = X.shape\n",
    "        w = np.zeros((n, 1))\n",
    "        for i in range(epoch):\n",
    "            grad = 1 / m * X.T.dot(self.sigmoid(X.dot(w))-y)\n",
    "            w -= lr * grad\n",
    "        self.w = w\n",
    "    def sigmoid(self, x):\n",
    "    # X = []\n",
    "    # for i in range(x.shape[0]):\n",
    "    #   if x[i] >= 0:\n",
    "    #     X.append(1 / (1 + np.exp(-x[i])))\n",
    "    #   else:\n",
    "    #     X.append(np.exp(x[i]) / (1 + np.exp(x[i])))\n",
    "    # return np.array(X).reshape(-1, 1)\n",
    "        return 1/(1+np.exp(-x))\n",
    "\n",
    "    def threshold(self, t, probability): # 阈值分类\n",
    "        return (probability >= t).astype(np.int)\n",
    "\n",
    "    def predict_probability(self, X):\n",
    "        return self.sigmoid(X.dot(self.w))\n",
    "\n",
    "    def predict(self, X):\n",
    "        return self.threshold(0.5, self.predict_probability(X))\n",
    "\n",
    "    def accuracy(self, y_true, y_pred): # 准确率\n",
    "        return np.average((y_true==y_pred).astype(np.int))\n",
    "\n",
    "    def precision(self, y_true, y_pred): # 精确率\n",
    "        TP = (y_true * y_pred).sum()\n",
    "        FP = ((1 - y_true) * y_pred).sum()\n",
    "        if TP + FP == 0:\n",
    "            return 1.0\n",
    "        else:\n",
    "            return TP / ( TP + FP)\n",
    "\n",
    "    def recall(self, y_true, y_pred): # 召回率\n",
    "        TP = (y_true * y_pred).sum()\n",
    "        FN = (y_true * (1 - y_pred)).sum()\n",
    "        if TP + FN == 0:\n",
    "            return 1.0\n",
    "        else:\n",
    "            return TP / (TP + FN)\n",
    "    def plot_roc_curve(self, X, y): # 绘制ROC曲线并计算AUC度量\n",
    "        TPRs, FPRs = [], []\n",
    "        probability = self.predict_probability(X)\n",
    "        for i in range(100):\n",
    "            y_pred = self.threshold(0.01 * i, probability)\n",
    "            TP = (y * y_pred).sum()\n",
    "            FP = ((1 - y) * y_pred).sum()\n",
    "            TN = ((1 - y) * (1 - y_pred)).sum()\n",
    "            FN = (y * (1 - y_pred)).sum()\n",
    "            TPR = TP / (TP + FN)\n",
    "            FPR = FP / (FP + TN)\n",
    "            TPRs.append(TPR)\n",
    "            FPRs.append(FPR)\n",
    "        plt.plot(FPRs, TPRs)\n",
    "        plt.xlabel('假正率')\n",
    "        plt.ylabel('真正率')\n",
    "        plt.show()\n"
   ]
  },
  {
   "cell_type": "code",
   "execution_count": 16,
   "metadata": {
    "colab": {
     "base_uri": "https://localhost:8080/",
     "height": 52
    },
    "colab_type": "code",
    "id": "WCAKsM0nfqPc",
    "outputId": "6068b1ca-3055-4bec-91f4-9d73a4d935b5"
   },
   "outputs": [
    {
     "name": "stderr",
     "output_type": "stream",
     "text": [
      "D:\\Anaconda3\\envs\\pytorch\\lib\\site-packages\\ipykernel_launcher.py:17: RuntimeWarning: overflow encountered in exp\n"
     ]
    },
    {
     "name": "stdout",
     "output_type": "stream",
     "text": [
      "准确率为0.8508771929824561，精确率为0.9629629629629629，召回率为0.7761194029850746\n"
     ]
    },
    {
     "name": "stderr",
     "output_type": "stream",
     "text": [
      "  WARNING: Retrying (Retry(total=4, connect=None, read=None, redirect=None, status=None)) after connection broken by 'ConnectTimeoutError(<pip._vendor.urllib3.connection.VerifiedHTTPSConnection object at 0x00000223FC371048>, 'Connection to files.pythonhosted.org timed out. (connect timeout=15)')': /packages/59/77/7a13ef25b0503311d8603074959c129cd60ef0eb26979aba7a7ed5b9e792/matplotlib-3.2.1-cp36-cp36m-win_amd64.whl\n",
      "  WARNING: Retrying (Retry(total=3, connect=None, read=None, redirect=None, status=None)) after connection broken by 'ConnectTimeoutError(<pip._vendor.urllib3.connection.VerifiedHTTPSConnection object at 0x00000223FA8FAD68>, 'Connection to files.pythonhosted.org timed out. (connect timeout=15)')': /packages/59/77/7a13ef25b0503311d8603074959c129cd60ef0eb26979aba7a7ed5b9e792/matplotlib-3.2.1-cp36-cp36m-win_amd64.whl\n",
      "  WARNING: Retrying (Retry(total=2, connect=None, read=None, redirect=None, status=None)) after connection broken by 'ConnectTimeoutError(<pip._vendor.urllib3.connection.VerifiedHTTPSConnection object at 0x00000223FC37A4A8>, 'Connection to files.pythonhosted.org timed out. (connect timeout=15)')': /packages/59/77/7a13ef25b0503311d8603074959c129cd60ef0eb26979aba7a7ed5b9e792/matplotlib-3.2.1-cp36-cp36m-win_amd64.whl\n",
      "  WARNING: Retrying (Retry(total=1, connect=None, read=None, redirect=None, status=None)) after connection broken by 'ConnectTimeoutError(<pip._vendor.urllib3.connection.VerifiedHTTPSConnection object at 0x00000223FC415D68>, 'Connection to files.pythonhosted.org timed out. (connect timeout=15)')': /packages/59/77/7a13ef25b0503311d8603074959c129cd60ef0eb26979aba7a7ed5b9e792/matplotlib-3.2.1-cp36-cp36m-win_amd64.whl\n"
     ]
    },
    {
     "name": "stdout",
     "output_type": "stream",
     "text": [
      "Collecting matplotlib\n",
      "  Downloading matplotlib-3.2.1-cp36-cp36m-win_amd64.whl (9.2 MB)\n",
      "Requirement already satisfied: python-dateutil>=2.1 in d:\\anaconda3\\envs\\pytorch\\lib\\site-packages (from matplotlib) (2.8.1)\n",
      "Collecting kiwisolver>=1.0.1\n",
      "  Downloading kiwisolver-1.2.0-cp36-none-win_amd64.whl (57 kB)\n",
      "Requirement already satisfied: numpy>=1.11 in d:\\anaconda3\\envs\\pytorch\\lib\\site-packages (from matplotlib) (1.18.1)\n",
      "Collecting pyparsing!=2.0.4,!=2.1.2,!=2.1.6,>=2.0.1\n",
      "  Downloading pyparsing-2.4.7-py2.py3-none-any.whl (67 kB)\n",
      "Collecting cycler>=0.10\n",
      "  Using cached cycler-0.10.0-py2.py3-none-any.whl (6.5 kB)\n",
      "Requirement already satisfied: six>=1.5 in d:\\anaconda3\\envs\\pytorch\\lib\\site-packages (from python-dateutil>=2.1->matplotlib) (1.14.0)\n",
      "Installing collected packages: kiwisolver, pyparsing, cycler, matplotlib\n",
      "Successfully installed cycler-0.10.0 kiwisolver-1.2.0 matplotlib-3.2.1 pyparsing-2.4.7\n"
     ]
    }
   ],
   "source": [
    "model = LogisticRegression()\n",
    "model.fit(X_train, y_train)\n",
    "y_pred = model.predict(X_test)\n",
    "print(\"准确率为{}，精确率为{}，召回率为{}\".format(model.accuracy(y_test, y_pred), model.precision(y_test, y_pred), model.recall(y_test, y_pred)))\n",
    "#model.plot_roc_curve(X_test, y_test)"
   ]
  },
  {
   "cell_type": "code",
   "execution_count": 28,
   "metadata": {
    "colab": {
     "base_uri": "https://localhost:8080/",
     "height": 581
    },
    "colab_type": "code",
    "id": "TJgYcEjFfqMf",
    "outputId": "0b7535ec-f3d0-47bd-cdd6-53240c62f411"
   },
   "outputs": [
    {
     "name": "stderr",
     "output_type": "stream",
     "text": [
      "/usr/local/lib/python3.6/dist-packages/ipykernel_launcher.py:17: RuntimeWarning: overflow encountered in exp\n",
      "/usr/local/lib/python3.6/dist-packages/matplotlib/backends/backend_agg.py:214: RuntimeWarning: Glyph 20551 missing from current font.\n",
      "  font.set_text(s, 0.0, flags=flags)\n",
      "/usr/local/lib/python3.6/dist-packages/matplotlib/backends/backend_agg.py:214: RuntimeWarning: Glyph 27491 missing from current font.\n",
      "  font.set_text(s, 0.0, flags=flags)\n",
      "/usr/local/lib/python3.6/dist-packages/matplotlib/backends/backend_agg.py:214: RuntimeWarning: Glyph 29575 missing from current font.\n",
      "  font.set_text(s, 0.0, flags=flags)\n",
      "/usr/local/lib/python3.6/dist-packages/matplotlib/backends/backend_agg.py:214: RuntimeWarning: Glyph 30495 missing from current font.\n",
      "  font.set_text(s, 0.0, flags=flags)\n",
      "/usr/local/lib/python3.6/dist-packages/matplotlib/backends/backend_agg.py:183: RuntimeWarning: Glyph 20551 missing from current font.\n",
      "  font.set_text(s, 0, flags=flags)\n",
      "/usr/local/lib/python3.6/dist-packages/matplotlib/backends/backend_agg.py:183: RuntimeWarning: Glyph 27491 missing from current font.\n",
      "  font.set_text(s, 0, flags=flags)\n",
      "/usr/local/lib/python3.6/dist-packages/matplotlib/backends/backend_agg.py:183: RuntimeWarning: Glyph 29575 missing from current font.\n",
      "  font.set_text(s, 0, flags=flags)\n",
      "/usr/local/lib/python3.6/dist-packages/matplotlib/backends/backend_agg.py:183: RuntimeWarning: Glyph 30495 missing from current font.\n",
      "  font.set_text(s, 0, flags=flags)\n"
     ]
    },
    {
     "data": {
      "image/png": "[encoded data removed]",
      "text/plain": [
       "<Figure size 432x288 with 1 Axes>"
      ]
     },
     "metadata": {
      "needs_background": "light",
      "tags": []
     },
     "output_type": "display_data"
    }
   ],
   "source": [
    "model.plot_roc_curve(X_test, y_test)"
   ]
  },
  {
   "cell_type": "code",
   "execution_count": 0,
   "metadata": {
    "colab": {
     "base_uri": "https://localhost:8080/",
     "height": 457
    },
    "colab_type": "code",
    "id": "bXyYH8iVfqJY",
    "outputId": "fd2c4173-8a01-421a-df2a-e704147ba8c8"
   },
   "outputs": [
    {
     "name": "stdout",
     "output_type": "stream",
     "text": [
      "accuracy = 0.9473684210526315, precision = 0.9692307692307692, recall = 0.9402985074626866\n"
     ]
    },
    {
     "name": "stderr",
     "output_type": "stream",
     "text": [
      "/usr/local/lib/python3.6/dist-packages/sklearn/linear_model/_logistic.py:940: ConvergenceWarning: lbfgs failed to converge (status=1):\n",
      "STOP: TOTAL NO. of ITERATIONS REACHED LIMIT.\n",
      "\n",
      "Increase the number of iterations (max_iter) or scale the data as shown in:\n",
      "    https://scikit-learn.org/stable/modules/preprocessing.html\n",
      "Please also refer to the documentation for alternative solver options:\n",
      "    https://scikit-learn.org/stable/modules/linear_model.html#logistic-regression\n",
      "  extra_warning_msg=_LOGISTIC_SOLVER_CONVERGENCE_MSG)\n"
     ]
    },
    {
     "data": {
      "text/plain": [
       "<sklearn.metrics._plot.roc_curve.RocCurveDisplay at 0x7f4d9540bba8>"
      ]
     },
     "execution_count": 91,
     "metadata": {
      "tags": []
     },
     "output_type": "execute_result"
    },
    {
     "data": {
      "image/png": "[encoded data removed]",
      "text/plain": [
       "<Figure size 432x288 with 1 Axes>"
      ]
     },
     "metadata": {
      "needs_background": "light",
      "tags": []
     },
     "output_type": "display_data"
    }
   ],
   "source": [
    "from sklearn.datasets import load_breast_cancer\n",
    "from sklearn.model_selection import train_test_split\n",
    "from sklearn.linear_model import LogisticRegression \n",
    "from sklearn.metrics import accuracy_score, precision_score, recall_score, roc_auc_score, plot_roc_curve\n",
    "  \n",
    "X, y = load_breast_cancer(return_X_y=True)\n",
    "X_train, X_test, y_train, y_test = train_test_split(X, y, test_size=0.2, random_state=0)\n",
    "\n",
    "model = LogisticRegression()\n",
    "model.fit(X_train, y_train)\n",
    "\n",
    "y_pred = model.predict(X_test)\n",
    "accuracy = accuracy_score(y_test, y_pred)\n",
    "precision = precision_score(y_test, y_pred)\n",
    "recall = recall_score(y_test, y_pred)\n",
    "print(\"accuracy = {}, precision = {}, recall = {}\".format(accuracy, precision, recall))\n",
    "plot_roc_curve(model, X_test, y_test)"
   ]
  },
  {
   "cell_type": "markdown",
   "metadata": {
    "colab_type": "text",
    "id": "L_1TsMuv-SkX"
   },
   "source": [
    "**5.7** 红酒产地预测问题。  \n",
    "&emsp;&emsp;红酒产地预测问题的任务是:根据红酒的各项指标，鉴定红酒的产地。数据来自Sklearn工具库中的红酒数据集。该数据集中包含来自3个不同产地的178瓶红酒。每一条数据表示一瓶红酒,其中记录了 13种指标作为特征.例如酒的颜色、蒸馏度、酸碱度，花青素浓度等，同时还记录了红酒的产地作为标签。  \n",
    "&emsp;&emsp;图5.26中的程序导入红酒数据集，并生成特征矩阵与标签矩阵。请基于图5.26,用Softmax回归算法完成红酒产地预测问题。\n",
    "\n",
    "![图5.26](./5.26.png)\n",
    "\n",
    "**导入红酒数据集 并生成特征矩阵与标签矩阵的程序**\n"
   ]
  },
  {
   "cell_type": "code",
   "execution_count": 1,
   "metadata": {
    "colab": {},
    "colab_type": "code",
    "id": "YJLEFxn7-SkY"
   },
   "outputs": [],
   "source": [
    "from sklearn.datasets import load_wine\n",
    "from sklearn.model_selection import train_test_split\n",
    "from sklearn.preprocessing import OneHotEncoder, MinMaxScaler\n",
    "from sklearn.metrics import accuracy_score\n",
    "import numpy as np"
   ]
  },
  {
   "cell_type": "code",
   "execution_count": 2,
   "metadata": {
    "colab": {},
    "colab_type": "code",
    "id": "QQ2jnW8eX-_n"
   },
   "outputs": [],
   "source": [
    "def process_features(X):\n",
    "    scaler = MinMaxScaler(feature_range=(0, 1))\n",
    "    X = scaler.fit_transform(1.0 * X)\n",
    "    m, n = X.shape\n",
    "    X = np.c_[np.ones((m, 1)), X]\n",
    "    return X"
   ]
  },
  {
   "cell_type": "code",
   "execution_count": 3,
   "metadata": {
    "colab": {},
    "colab_type": "code",
    "id": "-6TnqyXBYyMO"
   },
   "outputs": [],
   "source": [
    "def softmax(scores):\n",
    "    e = np.exp(scores)\n",
    "    s = np.sum(e, axis=1)\n",
    "    for i in range(len(s)):\n",
    "        e[i] /= s[i]\n",
    "    return e"
   ]
  },
  {
   "cell_type": "code",
   "execution_count": 4,
   "metadata": {
    "colab": {},
    "colab_type": "code",
    "id": "ISlriWZrY_V4"
   },
   "outputs": [],
   "source": [
    "class SoftmaxRegression:\n",
    "    def fit(self, X, y, lr=0.1, epoch=5000):\n",
    "        m, n = X.shape\n",
    "        m, k = y.shape\n",
    "        w = np.zeros((n, k))\n",
    "        for t in range(epoch):\n",
    "            proba = softmax(X.dot(w))\n",
    "            grad = X.T.dot(proba - y) / m\n",
    "            w = w - lr * grad\n",
    "            self.w = w\n",
    "    def predict(self, X):\n",
    "        return np.argmax(softmax(X.dot(self.w)), axis=1)"
   ]
  },
  {
   "cell_type": "code",
   "execution_count": 5,
   "metadata": {
    "colab": {},
    "colab_type": "code",
    "id": "C9aQSfbSX_C6"
   },
   "outputs": [],
   "source": [
    "X, y = load_wine(return_X_y=True)\n",
    "X_train, X_test, y_train, y_test = train_test_split(X, y, test_size=0.2, random_state=0)\n",
    "X_train = process_features(X_train)\n",
    "X_test = process_features(X_test)\n",
    "encoder = OneHotEncoder()\n",
    "y_train = encoder.fit_transform(y_train.reshape(-1, 1)).toarray()"
   ]
  },
  {
   "cell_type": "code",
   "execution_count": 6,
   "metadata": {
    "colab": {
     "base_uri": "https://localhost:8080/",
     "height": 35
    },
    "colab_type": "code",
    "id": "bZxEc8W1QIN2",
    "outputId": "97bcf956-1a35-4ae8-e158-142d8f1f4d22"
   },
   "outputs": [
    {
     "name": "stdout",
     "output_type": "stream",
     "text": [
      "0.9722222222222222\n"
     ]
    }
   ],
   "source": [
    "model = SoftmaxRegression()\n",
    "model.fit(X_train, y_train)\n",
    "y_pred = model.predict(X_test)\n",
    "print(accuracy_score(y_test, y_pred))"
   ]
  },
  {
   "cell_type": "markdown",
   "metadata": {
    "colab_type": "text",
    "id": "qrCpjY8O-Skb"
   },
   "source": [
    "**5.8** Logistic回归模型的校准性。   \n",
    "&emsp;&emsp;在一个采用0-1标签形式的二元分类问题中,给定模型$h$。对任意样本$x$，$h(x)$表示$x$的标签为1的概率。取定一组训练数据$S= \\{(x^{(1)}, y^{(1)}),(x^{(2)}, y^{(2)}), \\dots,(x^{(m)}, y^{(m)})\\}$。其中，$x^{(i)}\\in\\mathbb{R^n},y^{(i)}\\in\\mathbb\\{0,1\\}$。如果模型$h$满足如下性质:  \n",
    "$$\n",
    "\\frac{1}{m}\\sum_{i=1}^{m}h(x^{(i)}) = \\frac{1}{m}\\sum_{i=1}^{m}y^{(i)} \\qquad\\qquad\\qquad\\qquad (5.70)\n",
    "$$  \n",
    "\n",
    "则称$h$是一个校准的模型。这是因为，如果式(5.70)成立，则模型对标签为1的概率预测恰等于标签为1的频率。  \n",
    "&emsp;&emsp;校准特性是使得许多实际应用都采用Logistic回归算法的一个重要因素。试证明，Logistic回归模型满足式(5.70)中的校准特性。  \n"
   ]
  },
  {
   "cell_type": "markdown",
   "metadata": {
    "colab_type": "text",
    "id": "DDO0BH-_eDac"
   },
   "source": [
    "证明：  \n",
    "Logistic回归中，标签服从伯努利分布  \n",
    "$$\n",
    "f(y)=\n",
    "\\left\\{  \n",
    "             \\begin{array}{**lr**}  \n",
    "             p,\\qquad如果y=1  \\\\  \n",
    "             1-p,\\ 如果y=0\n",
    "             \\end{array}  \n",
    "\\right.\n",
    "$$\n",
    "由于监督式学习中的模型预测的是标签分布的期望，对logistic回归而言，标签分布的期望是p，即模型预测$h_w(x)$。  \n",
    "样本$S$中标签分布的期望为$\\frac{1}{m}\\sum_{i=1}^{m}y^{(i)}$，所以式(5.70)成立。"
   ]
  },
  {
   "cell_type": "markdown",
   "metadata": {
    "colab_type": "text",
    "id": "ikOCWYZD-Ske"
   },
   "source": [
    "\n",
    "**5.9** 泊松回归问题。  \n",
    "&emsp;&emsp;(1)泊松分布用于描述单位时间内某随机事件发生次数的概率分布。取定样本空间$S=\\{0,1,2,...\\}$为全体非负整数。一个以$λ>0$为参数的泊松分布$Poisson(λ)$具有如下形式的密度函数:    \n",
    "$$\n",
    "f(y) = \\frac{e^{-\\lambda}\\lambda^{y}} {y!}，  y\\in\\mathbb{S}\n",
    "$$\n",
    "试证明泊松分布$Poisson(λ)$是指数分布族中的一员，并请给出对数正规化子$a(\\eta)$、底层观测$b(y)$以及充分统计量$T(y)$的具体形式。   \n",
    "&emsp;&emsp;(2)在一个回归问题中,如果标签值取整数值，并且表示某类事件发生的次数，就称该回归问题是一个计数回归问题。一个典型的例子是预测客服中心可能接到的电话次数。在计数回归问题中,往往设标签分布是泊松分布。基于这个假设的回归算法被称为泊松回归算法。请按照指数分布族原则推导出泊松回归的模型形式。   \n",
    "&emsp;&emsp;(3)请按照最大似然原则推导出泊松回归问题的目标函数。\n"
   ]
  },
  {
   "cell_type": "markdown",
   "metadata": {
    "colab_type": "text",
    "id": "P7yPydEumfG9"
   },
   "source": [
    "证明：  \n",
    "(1)在式中取如下参数\n",
    "$$\n",
    "a(\\eta)=\\lambda=e^{\\eta}\\\\\n",
    "b(y)=\\frac{1}{y!}\\\\\n",
    "T(y)=y\\\\\n",
    "\\eta=\\log \\lambda\n",
    "$$\n",
    "则可以验证\n",
    "$$\n",
    "f(y)=b(y)e^{\\eta T(y)-a(\\eta)}\n",
    "$$\n",
    "证明泊松分布是指数分布族中的一员。  \n",
    "(2)泊松分布的期望是$\\lambda$，由(1)可得$\\lambda=e^\\eta$，根据指数分布族原则，泊松分布回归的模型为\n",
    "$$\n",
    "h_w(x)=e^{<w,x>}\n",
    "$$\n",
    "(3)\n",
    "$$\n",
    "\\begin{equation*}%加*表示不对公式编号\n",
    "\\begin{split}\n",
    "p_w(Y=y)&=\\frac{e^{-\\lambda}\\lambda^{y}} {y!}，  y\\in\\mathbb{S}\\\\\n",
    "&=\\frac{e^{-h_w(x)}h_w(x)^{y}} {y!}，  y\\in\\mathbb{S}\\\\\n",
    "\\end{split}\n",
    "\\end{equation*}\n",
    "$$\n",
    "$$\n",
    "\\begin{equation*}%加*表示不对公式编号\n",
    "\\begin{split}\n",
    "Like(w|y^{(1)},|y^{(2)},...,|y^{(m)})&=\\prod_{i=1}^mp_w(Y=y^{(i)})\\\\\n",
    "&=\\prod_{i=1}^m\\frac{e^{-h_w(x)}h_w(x)^{y^{(i)}}} {y^{(i)}!}\\\\\n",
    "\\end{split}\n",
    "\\end{equation*}\n",
    "$$\n",
    "对上式取对数并乘以常数$-\\frac{1}{m}$得到泊松分布的目标函数\n",
    "$$\n",
    "-\\frac{1}{m}\\sum_{i=1}^m[-h_w(x)+y^{(i)}\\log{h_w(x)}-\\log{y^{(i)}!}]\n",
    "$$\n"
   ]
  }
 ],
 "metadata": {
  "colab": {
   "collapsed_sections": [],
   "name": "ch05.ipynb",
   "provenance": []
  },
  "kernelspec": {
   "display_name": "Python 3",
   "language": "python",
   "name": "python3"
  },
  "language_info": {
   "codemirror_mode": {
    "name": "ipython",
    "version": 3
   },
   "file_extension": ".py",
   "mimetype": "text/x-python",
   "name": "python",
   "nbconvert_exporter": "python",
   "pygments_lexer": "ipython3",
   "version": "3.6.10"
  }
 },
 "nbformat": 4,
 "nbformat_minor": 1
}
