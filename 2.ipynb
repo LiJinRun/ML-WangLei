{
 "cells": [
  {
   "cell_type": "markdown",
   "metadata": {},
   "source": [
    "2.1 本章中介绍了鸾尾花属种预测问题。实际上完整的鸾尾花属种预测问题是一个三元分类问题。它的任务是根据一株鸾尾花的花萼长、花萼宽、花瓣长、花瓣宽这4个特征来预测鸾尾花的属种。它可能是山鸾尾、变色鸾尾与佛吉尼亚鸾尾中的一种。表2.1是5条数据样本，请描述5条数据对应的特征与标签。"
   ]
  },
  {
   "cell_type": "markdown",
   "metadata": {},
   "source": [
    "|花萼长|花萼宽|花瓣长|花瓣宽|属种|\n",
    "|:-:|:-:|:-:|:-:|-|\n",
    "|5.1|3.5|1.4|0.2|山鸢尾|\n",
    "|7.0|3.2|4.7|1.4|变色鸢尾|\n",
    "|4.8|3.0|1.4|0.3|山鸢尾|\n",
    "|6.4|2.8|5.6|2.1|弗吉尼亚鸢尾|\n",
    "|6.2|3.0|4.9|1.8|弗吉尼亚鸢尾|"
   ]
  },
  {
   "cell_type": "code",
   "execution_count": null,
   "metadata": {},
   "outputs": [],
   "source": [
    "# 数据1：特征：[5.1, 3.5, 1.4, 0.2]，标签：山鸢尾  \n",
    "# 数据2：特征：[7.0, 3.2, 4.7, 1.4]，标签：变色鸢尾  \n",
    "# 数据3：特征：[4.8, 3.0, 1.4, 0.3]，标签：山鸢尾  \n",
    "# 数据4：特征：[6.4, 2.8, 5.6, 2.1]，标签：弗吉尼亚鸢尾  \n",
    "# 数据5：特征：[6.2, 3.0, 4.9, 1.8]，标签：弗吉尼亚鸢尾  "
   ]
  },
  {
   "cell_type": "markdown",
   "metadata": {},
   "source": [
    "2.2 考察平面上的3个点：（0,1）、（1,1）和（2,3）。  \n",
    "（1）请计算一个能够完美拟合这三个点到的2次多项式。  \n",
    "（2）在线性模型假设$ H=\\{h_w(\\mathbf{x})=\\mathbf{wx}+b \\mathbf{:} \\mathbf{w} \\in \\mathbb{R}, b \\in \\mathbb{R} \\}$中，假定损失函数为例2.2中的平方损失函数，请写出在训练数据$ S=\\{(0,1),(1,1),(2,3)\\} $上的经验损失最小化算法的目标函数，并计算出最优的线性模型参数值。  "
   ]
  },
  {
   "cell_type": "markdown",
   "metadata": {},
   "source": [
    "(1)\n",
    "$$\n",
    "x_1^2-x_1-x_2+1  \n",
    "$$\n",
    "(2)\n",
    "$$\n",
    "target = \\min_{w,b \\in \\mathbb{R}} loss = \\min_{w,b \\in \\mathbb{R}}\\frac{(b-1)^2+(w+b-1)^2+(2w+b-3)^2}{3}\n",
    "$$\n",
    "$$\n",
    "令\\frac{\\partial loss}{\\partial w}=10w+6b-14=0\n",
    "$$\n",
    "$$\n",
    "令\\frac{\\partial loss}{\\partial b}=6w+6b-10=0\n",
    "$$\n",
    "$$\n",
    "则w=1, b=\\frac{2}{3}\n",
    "$$"
   ]
  },
  {
   "cell_type": "markdown",
   "metadata": {},
   "source": [
    "2.3 证明式（2.15）所示的 $ \\textit{n} $ 元 $ \\textit{d} $ 次多项式模型\n",
    "$$\n",
    "    H_{n,d} = {h(x_1,x_2,\\dots,x_n) = \\sum_{\\substack{a_1,a_2,\\dots,a_n \\in \\mathbb{Z} \\geq 0 \\\\ a_1+a_2+\\dots+a_n \\leq d} } w_{a_1,a_2,\\dots,a_n}x_1^{a_1}x_2^{a_2} \\dots x_n^{a_n}}\n",
    "$$\n",
    "可以用$\\binom{n+d}{d}$个实参表示。"
   ]
  },
  {
   "cell_type": "markdown",
   "metadata": {},
   "source": [
    "证明：\n",
    "\n",
    "由二项式定理$(a+b)^n=\\binom{n}{0}a^n+\\binom{n}{1}a^{n-1}b+...+\\binom{n}{n}b^n$（共有n+1项）\n",
    "\n",
    "可知$(a+b+c)^n=\\binom{n}{0}(a+b)^n+\\binom{n}{1}(a+b)^{n-1}c+...+\\binom{n}{n}c^n$\n",
    "\n",
    "共有$（n+1)+n+(n-1)+...+2+1=\\frac{(n+1)(n+2)}{2}$项\n",
    "\n",
    "类似可得$(a+b+c+d)^n=\\binom{n}{0}(a+b+c)^n+\\binom{n}{1}(a+b+c)^{n-1}d+...+\\binom{n}{n-1}(a+b+c)d^{n-1}+\\binom{n}{n}d^n$\n",
    "\n",
    "项数为$\\frac{(n+1)(n+2)}{2}+\\frac{n(n+1)}{2}+...+3+1\\\\=\\sum_{k=0}^{n} \\frac{(k+1)(k+2)}{2}\\\\=\\frac{1}{2}\\sum_{k=0}^{n} (k^2+3k+2)\\\\=\\frac{1}{2}[\\frac{n(n+1)(2n+2)}{6}+\\frac{3n(n+1)}{2}+2(n+1)]\\\\=\\frac{(n+1)(n+2)(n+3)}{6}\\\\=\\frac{(n+1)(n+2)(n+3)}{3!}\\\\=\\binom{n+3}{n}$\n",
    "\n",
    "所以\n",
    "\n",
    "$(a_1+a_2+...+a_n)^d$的项数为$\\binom{n+d-1}{d}$，即n元d次多项式中d次项数\n",
    "\n",
    "$(a_1+a_2+...+a_n)^{d-1}$的项数为$\\binom{n+d-2}{d-1}$，即n元d次多项式中(d-1)次项数\n",
    "\n",
    "$(a_1+a_2+...+a_n)^{d-2}$的项数为$\\binom{n+d-3}{d-2}$，即n元d次多项式中(d-2)次项数\n",
    "\n",
    "...\n",
    "\n",
    "$(a_1+a_2+...+a_n)^{2}$的项数为$\\binom{n+1}{2}$，即n元d次多项式中2次项数\n",
    "\n",
    "$(a_1+a_2+...+a_n)^{1}$的项数为$\\binom{n}{1}$，即n元d次多项式中1次项数\n",
    "\n",
    "$(a_1+a_2+...+a_n)^{0}$的项数为$\\binom{n-1}{0}$，即n元d次多项式中0次项数\n",
    "\n",
    "和为$\\binom{n-1}{0}+\\binom{n}{1}+\\binom{n+1}{2}+...+\\binom{n+d-3}{d-2}+\\binom{n+d-2}{d-1}+\\binom{n+d-1}{d}$\n",
    "\n",
    "根据公式$\\binom{n-1}{r-1}+\\binom{n-1}{r}=\\binom{n}{r}$\n",
    "可得上述和$\\binom{n-1}{0}+\\binom{n}{1}+\\binom{n+1}{2}+...+\\binom{n+d-3}{d-2}+\\binom{n+d-2}{d-1}+\\binom{n+d-1}{d}\\\\=\\binom{n}{0}+\\binom{n}{1}+\\binom{n+1}{2}+...+\\binom{n+d-3}{d-2}+\\binom{n+d-2}{d-1}+\\binom{n+d-1}{d}\\\\=\\binom{n+1}{1}+\\binom{n+1}{2}+...+\\binom{n+d-3}{d-2}+\\binom{n+d-2}{d-1}+\\binom{n+d-1}{d}\\\\=...\\\\=\\binom{n+d}{d}$\n",
    "\n",
    "即n元d次多项式模型可用$\\binom{n+d}{d}​$个实参数来表示"
   ]
  },
  {
   "cell_type": "markdown",
   "metadata": {},
   "source": [
    "2.4 考察优化问题\n",
    "$$\n",
    "\\min_{w_1,w_2 \\in \\mathbb{R}}{(w_1-w_2-1)}^2\n",
    "$$\n",
    "请写出它的以$\\lambda=2$为系数的$L_2$正则化算法的目标函数，并计算该目标函数的最优解。"
   ]
  },
  {
   "cell_type": "markdown",
   "metadata": {},
   "source": [
    "$$\n",
    "target = \\min_{w_1,w_2 \\in \\mathbb{R}}loss=  \\min_{w_1,w_2 \\in \\mathbb{R}}{(w_1-w_2-1)^2+\\lambda(w_1^2+w_2^2)}\\\\\n",
    "\\frac{\\partial loss}{\\partial w_1} = 2(w_1-w_2-1)+2\\lambda w_1 \\\\\n",
    "\\frac{\\partial loss}{\\partial w_2} = -2(w_1-w_2-1) +2\\lambda w_2 \\\\\n",
    "\\frac{\\partial loss}{\\partial w_1}=0\\\\\n",
    "\\frac{\\partial loss}{\\partial w_2}=0\\\\\n",
    "w_1=-w_2=\\frac{1}{4}\\\\\n",
    "target = \\frac{1}{2}\n",
    "$$"
   ]
  },
  {
   "cell_type": "markdown",
   "metadata": {},
   "source": [
    "2.5 经验损失和期望损失\n",
    "在一个监督式学习问题中，给定取值在[0,1]区间内的损失函数$l$以及训练数据$S=\\{(x^{(1)},y^{(1)}),(x^{(2)},y^{(2)}),(x^{(3)},y^{(3)}) \\dots ,(x^{(m)},y^{(m)})\\}$。请用Hoeffding不等式（附录A的定理A.4.5）证明如下结论：对任意$\\epsilon,\\delta \\gt 0$，当训练个数$m$满足：\n",
    "$$\n",
    "m \\gt \\lceil \\frac{\\log {\\frac{2}{\\delta}}}{2 \\epsilon^2 } \\rceil\n",
    "$$\n",
    "对任意模型$h$有$Pr(\\left| L_s(h) - L_d(h) \\right| \\gt \\epsilon) \\leq \\delta $。这一结论说明，当训练数据的规模足够大时，经验损失是期望损失的良好近似。\n",
    "注意：本文若无特殊说明，所有对数底数为2。"
   ]
  },
  {
   "cell_type": "markdown",
   "metadata": {},
   "source": [
    "证明：$$\n",
    "Hoeffding:Pr(\\left| L_s(h) - L_d(h) \\right| \\gt \\epsilon) \\leq 2 e^{-2m\\epsilon^2}\\quad (1)\\\\\n",
    "由 \\quad m\\gt \\lceil  \\frac{\\log \\frac{2}{\\delta}}{2\\epsilon^2} \\rceil \\quad 得\\\\\n",
    "m\\log {e}\\gt \\frac{\\log \\frac{2}{\\delta}}{2\\epsilon^2} \\\\\n",
    "-2m\\epsilon^2 \\log {e} \\lt  \\log \\frac{\\delta}{2}\\\\\n",
    "2^{-2m\\epsilon^2\\log {e}}<\\frac{\\delta}{2}\\\\\n",
    "e^{-2m\\epsilon^2}<\\frac{\\delta}{2}\\\\\n",
    "2e^{-2m\\epsilon^2}<\\delta\\\\\n",
    "由(1) Pr(\\left| L_s(h) - L_d(h) \\right| \\gt \\epsilon) \\leq 2 e^{-2m\\epsilon^2}\\\\\n",
    "得Pr(\\left| L_s(h) - L_d(h) \\right| \\gt \\epsilon) \\leq \\delta\n",
    "$$"
   ]
  },
  {
   "cell_type": "markdown",
   "metadata": {},
   "source": [
    "2.6 矩形分类问题\n",
    "在矩形分类问题中，样本空间是$\\mathbb{R}^2$，即全体平面上的点 $\\mathbf{\\textit{x}}=(x_1,x_2)$，标签由如下矩形函数$f_{A,B,C,D}:\\mathbb{R}^2 \\rightarrow \\{0,1\\}$给出：\n",
    "$$\n",
    "f_{A,B,C,D}(x_1,x_2)=\\left\\{\n",
    "\\begin{aligned}\n",
    "  1 &,  A \\leq x_1 \\leq B 并且 C \\leq x_2 \\leq D \\\\\n",
    "  -1 &,  其余情况\n",
    "\\end{aligned}\n",
    "\\right.\n",
    "$$\n",
    "可以看到在矩形$\\{(x_1,x_2):A \\leq x_1 \\leq B 并且 C \\leq x_2 \\leq D\\}$内部的点带有+1标签，其余的点带有-1标签，如图2.18所示。\n",
    "![](./figure_2_18.jpg)\n",
    "任意一个矩形函数都可以用4个实参数来表示。取定0-1损失函数，并确定模型假设$H=\\{f_{A,B,C,D}:A \\leq B,C \\leq D\\}$为全体矩形函数。  \n",
    "（1）考察下面算法：输出包含所有训练数据中带+1标签的点的最小矩形。请证明这一算法是一个经验损失最小化算法。      \n",
    "（2）试证明：当训练数据规模m满足：\n",
    "$$\n",
    "m\\geq\\frac{4\\log{4\\delta}}{\\epsilon}\n",
    "$$\n",
    "  时，上面（1）中的算法以至少$1-\\delta$的概率输出一个期望损失不超过$\\epsilon$的模型。  \n",
    "（3）请将前两个小题的结论推广到一般的 $d$ 维空间。  "
   ]
  },
  {
   "cell_type": "code",
   "execution_count": null,
   "metadata": {},
   "outputs": [],
   "source": [
    "#填写答案，可根据需要将当前Cell的CellType设置为Markdown或继续添加新的Cell"
   ]
  },
  {
   "cell_type": "markdown",
   "metadata": {},
   "source": [
    "2.7 感知器算法的有限性\n",
    "本题要求分步证明：如果正负采样可以被一条直线分离，则感知器算法在有限步偶一定会终止。给定训练数据$S={(x^{(1)},y^{(1)})，(x^{(2)},y^{(2)})，\\dots，(x^{(m)},y^{(m)})}$。设$y=<w^*,x>+b$是一条分离直线，并设感知器算法的第$t$步得到的直线方程为：$y=<w^{(t)},x>+b^{(t)}$。\n",
    "（1）请证明$\\left\\langle w^*, w^{(t+1)}\\right\\rangle  \\geq  \\left\\langle w^*,w^{(t)} \\right\\rangle + 1 $  \n",
    "（2）根据（1）中的结论证明：$\\left\\langle w^*, w^{(t+1)}\\right\\rangle \\geq t $  \n",
    "（3）设$R=\\max_{1 \\leq i \\leq m }{\\left\\| x^{(i)} \\right\\|}$，请证明${\\left\\| w^{(t+1)} \\right\\|}^2 \\leq {\\left\\| w^{(t)} \\right\\|}^2 + R^2 $  \n",
    "（4）请根据（3）中的结论证明${\\left\\| w^{(t+1)} \\right\\|} \\leq \\sqrt{t}R$  \n",
    "（5）设感知器算法运行到第$T$步，请结合以上结论，证明\n",
    "$$\n",
    "\\frac{\\left\\langle w^*,w^{(T+1)} \\right\\rangle}{\\left\\| w^* \\right\\| \\left\\| w^{T+1} \\right\\| } \\geq \\frac{\\sqrt{T}}{ {\\left\\| w^* \\right\\|}{R}} \n",
    "$$  \n",
    "(6)请根据上述（5）中的结论，利用柯西不等式证明 $T \\leq {\\left\\| w^* \\right\\|}^2{R}^2$ ，换句话说，感知器算法在 $T \\leq {\\left\\| w^* \\right\\|}^2{R}^2$ 步之后必然停止。"
   ]
  },
  {
   "cell_type": "markdown",
   "metadata": {},
   "source": [
    "解：\n",
    "$$\n",
    "\\begin{equation*}%加*表示不对公式编号\n",
    "\\begin{split}\n",
    "\\left\\langle w^*, w^{(t+1)}\\right\\rangle \n",
    "&=(w^*)^T(w^{(t)}+y_{(t)}^{(m)}x_{(t)}^{(m)}) \\\\\n",
    "&\\geq(w^*)^T w^{(t)}+\\min{y_{(t)}^{(m)}(w^*)^Tx_{(t)}^{(m)}}\\\\\n",
    "&=\\left\\langle w^*, w^{(t)}\\right\\rangle +\\min{y_{(t)}^{(m)}(w^*)^Tx_{(t)}^{(m)}}\\qquad(1)\\\\\n",
    "&\\geq...\\\\\n",
    "&\\geq(w^*)^T w^{(0)}+t\\min{y_{(t)}^{(m)}(w^*)^Tx_{(t)}^{(m)}}\\\\\n",
    "&=t\\min{y_{(t)}^{(m)}(w^*)^Tx_{(t)}^{(m)}}\\qquad\\qquad\\qquad(2)\\\\\n",
    "||w^{(t+1)}||^2\n",
    "&={(w^{(t)}+y_{(t)}^{(m)}x_{(t)}^{(m)})}^2\\\\\n",
    "&=||w^{(t)}||^2+2y_{(t)}^{(m)}w^{(t)}x_{(t)}^{(m)}+||y_{(t)}^{(m)}x_{(t)}^{(m)}||^2\\\\\n",
    "&\\leq||w^{(t)}||+0+||x_{(t)}^{(m)}||^2\\\\\n",
    "&\\leq||w^{(t)}||+\\max_{1\\leq i\\leq m}||x_m||^2\\\\\n",
    "&=||w^{(t)}||+R^2 \\qquad \\qquad(3)\\\\\n",
    "&\\leq||w^{(1)}||+tR^2\\\\\n",
    "&\\leq tR^2\\\\\n",
    "||w^{(t+1)}||&\\leq \\sqrt{t}R \\qquad \\qquad(4)\\\\\n",
    "\\end{split}\n",
    "\\end{equation*}\n",
    "$$\n",
    "\n",
    "$$\n",
    "~\\\\\n",
    "\\begin{equation*}%加*表示不对公式编号\n",
    "\\begin{split}\n",
    "\\frac{\\left\\langle w^*,w^{(T+1)} \\right\\rangle}{\\left\\| w^* \\right\\| \\left\\| w^{T+1} \\right\\| } \n",
    "&\\geq \\frac{T\\min{y_{(t)}^{(m)}(w^*)^Tx_{(t)}^{(m)}}}{||w^*||\\sqrt{T}R}\\\\\n",
    "&= \\frac{\\sqrt{T}\\min{y_{(t)}^{(m)}(w^*)^Tx_{(t)}^{(m)}}}{ {\\left\\| w^* \\right\\|}{R}}\\qquad (5)\\\\\n",
    "\\end{split}\n",
    "\\end{equation*}\n",
    "$$\n",
    "\n",
    "$$\n",
    "~\\\\\n",
    "∵\\frac{\\left\\langle w^*,w^{(T+1)} \\right\\rangle}{\\left\\| w^* \\right\\| \\left\\| w^{T+1} \\right\\| } \\leq 1\\\\\n",
    "∴\\frac{\\sqrt{T}\\min{y_{(t)}^{(m)}(w^*)^Tx_{(t)}^{(m)}}}{ {\\left\\| w^* \\right\\|}{R}} \\leq 1\\\\\n",
    "T\\leq \\frac{||(w^*)||^2R^2}{min^2y_{(t)}^{(m)}(w^*)^Tx_{(t)}^{(m)}}\\qquad \\qquad (6)\n",
    "$$\n"
   ]
  },
  {
   "cell_type": "markdown",
   "metadata": {},
   "source": [
    "2.8 墨渍分类问题\n",
    "在平面上有两摊墨渍，它们的颜色分别为黄色和蓝色。墨渍分类的任务是根据点的坐标判断其染上的墨渍的颜色。  \n",
    "墨渍分类问题的数据集已经集成在Sklearn的数据库中。数据集的每条数据都是平面上的一个点。特征组为该点的坐标。标签为该点被染成的颜色，0表示黄色，1表示蓝色。图2.19是100条数据采样。\n",
    "![](./figure_2_19.jpg)\n",
    "图2.20是获取数据和观察数据的程序。请基于图2.20中的程序，用感知器算法来解决墨渍分类的问题。  \n",
    "![](./figure_2_20.jpg)"
   ]
  },
  {
   "cell_type": "code",
   "execution_count": 2,
   "metadata": {},
   "outputs": [
    {
     "data": {
      "image/png": "[encoded data removed]",
      "text/plain": [
       "<Figure size 432x288 with 1 Axes>"
      ]
     },
     "metadata": {
      "needs_background": "light"
     },
     "output_type": "display_data"
    }
   ],
   "source": [
    "from sklearn.datasets.samples_generator import make_blobs\n",
    "import matplotlib.pyplot as plt\n",
    "import numpy as np\n",
    "X, y = make_blobs(n_samples=100, centers=2,\n",
    "                  n_features=2, cluster_std=0.6, random_state=0)\n",
    "y = 2 * y - 1\n",
    "class Perceptron:\n",
    "    def fit(self, X, y):\n",
    "        m, n = X.shape\n",
    "        w = np.zeros((n,1))\n",
    "        b = 0\n",
    "        done = False\n",
    "        while not done:\n",
    "            done = True\n",
    "            for i in range(m):\n",
    "                x = X[i].reshape(1,-1)\n",
    "                if y[i] * (x.dot(w) + b) <= 0:\n",
    "                    w = w + y[i] * x.T\n",
    "                    b = b + y[i]\n",
    "                    done = False\n",
    "        self.w = w\n",
    "        self.b = b\n",
    "    def plot(self, X, y):\n",
    "        plt.plot(X[:,0][y==1],X[:,1][y==1],'bs',ms=3)\n",
    "        plt.plot(X[:,0][y==-1],X[:,1][y==-1],'yo',ms=3)\n",
    "        x = np.linspace(-0.5,3.5,100)\n",
    "        plt.plot(x, (-self.w[0]*x-self.b)/self.w[1],'b')\n",
    "        plt.show()\n",
    "model = Perceptron()\n",
    "model.fit(X, y)\n",
    "model.plot(X, y)"
   ]
  },
  {
   "cell_type": "code",
   "execution_count": null,
   "metadata": {},
   "outputs": [],
   "source": []
  }
 ],
 "metadata": {
  "kernelspec": {
   "display_name": "Python 3",
   "language": "python",
   "name": "python3"
  },
  "language_info": {
   "codemirror_mode": {
    "name": "ipython",
    "version": 3
   },
   "file_extension": ".py",
   "mimetype": "text/x-python",
   "name": "python",
   "nbconvert_exporter": "python",
   "pygments_lexer": "ipython3",
   "version": "3.7.4"
  }
 },
 "nbformat": 4,
 "nbformat_minor": 4
}
